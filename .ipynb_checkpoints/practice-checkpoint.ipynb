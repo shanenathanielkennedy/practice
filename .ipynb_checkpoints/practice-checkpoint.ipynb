{
 "cells": [
  {
   "cell_type": "code",
   "execution_count": 1,
   "id": "3e8031ed",
   "metadata": {},
   "outputs": [],
   "source": [
    "## DSA\n",
    "\n",
    "\n",
    "public class TriangleDrawer {\n",
    "   public static void drawTriangle(int N) {\n",
    "      int col, row;\n",
    "      col=1;\n",
    "      while(col<=N){\n",
    "         row=1;\n",
    "         while(row<=col){\n",
    "            System.out.print(\"*\");\n",
    "            row++;\n",
    "         }\n",
    "         col++;\n",
    "         System.out.println();\n",
    "      }}\n",
    "   \n",
    "   public static void main(String[] args) {\n",
    "      drawTriangle(10);\n",
    "   }\n",
    "}"
   ]
  },
  {
   "cell_type": "code",
   "execution_count": 2,
   "id": "354fe0cf",
   "metadata": {},
   "outputs": [
    {
     "ename": "SyntaxError",
     "evalue": "invalid syntax (1804735326.py, line 1)",
     "output_type": "error",
     "traceback": [
      "\u001b[1;36m  File \u001b[1;32m\"C:\\Users\\shane\\AppData\\Local\\Temp\\ipykernel_60188\\1804735326.py\"\u001b[1;36m, line \u001b[1;32m1\u001b[0m\n\u001b[1;33m    public class Maximum {\u001b[0m\n\u001b[1;37m           ^\u001b[0m\n\u001b[1;31mSyntaxError\u001b[0m\u001b[1;31m:\u001b[0m invalid syntax\n"
     ]
    }
   ],
   "source": [
    "public class Maximum {\n",
    "   public static int max(int[] m) {\n",
    "      int i = 0; int maxNum = 0; int n;\n",
    "      while(i < m.length){\n",
    "         if (m[i] > maxNum){\n",
    "            maxNum = m[i];\n",
    "         }\n",
    "         i++;\n",
    "      } return maxNum;\n",
    "   }\n",
    "   public static void main(String[] args) {\n",
    "      int[] numbers = new int[]{9, 2, 15, 2, 22, 10, 6};  \n",
    "      System.out.println(max(numbers));\n",
    "   }\n",
    "}"
   ]
  },
  {
   "cell_type": "code",
   "execution_count": null,
   "id": "a5d6fee8",
   "metadata": {},
   "outputs": [],
   "source": []
  },
  {
   "cell_type": "code",
   "execution_count": null,
   "id": "f99ab778",
   "metadata": {},
   "outputs": [],
   "source": []
  },
  {
   "cell_type": "code",
   "execution_count": null,
   "id": "af9ea6f1",
   "metadata": {},
   "outputs": [],
   "source": []
  },
  {
   "cell_type": "code",
   "execution_count": null,
   "id": "67ec0111",
   "metadata": {},
   "outputs": [],
   "source": []
  }
 ],
 "metadata": {
  "kernelspec": {
   "display_name": "Python 3 (ipykernel)",
   "language": "python",
   "name": "python3"
  },
  "language_info": {
   "codemirror_mode": {
    "name": "ipython",
    "version": 3
   },
   "file_extension": ".py",
   "mimetype": "text/x-python",
   "name": "python",
   "nbconvert_exporter": "python",
   "pygments_lexer": "ipython3",
   "version": "3.9.13"
  }
 },
 "nbformat": 4,
 "nbformat_minor": 5
}
